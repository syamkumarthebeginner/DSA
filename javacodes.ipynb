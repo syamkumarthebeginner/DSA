{
  "cells": [
    {
      "cell_type": "markdown",
      "metadata": {
        "id": "view-in-github",
        "colab_type": "text"
      },
      "source": [
        "<a href=\"https://colab.research.google.com/github/syamkumarthebeginner/DSA/blob/main/javacodes.ipynb\" target=\"_parent\"><img src=\"https://colab.research.google.com/assets/colab-badge.svg\" alt=\"Open In Colab\"/></a>"
      ]
    },
    {
      "cell_type": "code",
      "source": [
        "!apt-get update -qq\n",
        "!apt-get install -y openjdk-17-jdk-headless\n"
      ],
      "metadata": {
        "colab": {
          "base_uri": "https://localhost:8080/"
        },
        "id": "vc-sSNd18nPb",
        "outputId": "3856e00f-b5ef-46c7-c144-00b4279f6323"
      },
      "execution_count": null,
      "outputs": [
        {
          "output_type": "stream",
          "name": "stdout",
          "text": [
            "W: Skipping acquire of configured file 'main/source/Sources' as repository 'https://r2u.stat.illinois.edu/ubuntu jammy InRelease' does not seem to provide it (sources.list entry misspelt?)\n",
            "Reading package lists... Done\n",
            "Building dependency tree... Done\n",
            "Reading state information... Done\n",
            "The following additional packages will be installed:\n",
            "  openjdk-17-jre-headless\n",
            "Suggested packages:\n",
            "  openjdk-17-demo openjdk-17-source libnss-mdns fonts-ipafont-gothic\n",
            "  fonts-ipafont-mincho fonts-wqy-microhei | fonts-wqy-zenhei fonts-indic\n",
            "The following NEW packages will be installed:\n",
            "  openjdk-17-jdk-headless openjdk-17-jre-headless\n",
            "0 upgraded, 2 newly installed, 0 to remove and 89 not upgraded.\n",
            "Need to get 120 MB of archives.\n",
            "After this operation, 272 MB of additional disk space will be used.\n",
            "Get:1 http://archive.ubuntu.com/ubuntu jammy-updates/universe amd64 openjdk-17-jre-headless amd64 17.0.15+6~us1-0ubuntu1~22.04 [48.3 MB]\n",
            "Get:2 http://archive.ubuntu.com/ubuntu jammy-updates/universe amd64 openjdk-17-jdk-headless amd64 17.0.15+6~us1-0ubuntu1~22.04 [71.3 MB]\n",
            "Fetched 120 MB in 3s (37.8 MB/s)\n",
            "Selecting previously unselected package openjdk-17-jre-headless:amd64.\n",
            "(Reading database ... 126580 files and directories currently installed.)\n",
            "Preparing to unpack .../openjdk-17-jre-headless_17.0.15+6~us1-0ubuntu1~22.04_amd64.deb ...\n",
            "Unpacking openjdk-17-jre-headless:amd64 (17.0.15+6~us1-0ubuntu1~22.04) ...\n",
            "Selecting previously unselected package openjdk-17-jdk-headless:amd64.\n",
            "Preparing to unpack .../openjdk-17-jdk-headless_17.0.15+6~us1-0ubuntu1~22.04_amd64.deb ...\n",
            "Unpacking openjdk-17-jdk-headless:amd64 (17.0.15+6~us1-0ubuntu1~22.04) ...\n",
            "Setting up openjdk-17-jre-headless:amd64 (17.0.15+6~us1-0ubuntu1~22.04) ...\n",
            "update-alternatives: using /usr/lib/jvm/java-17-openjdk-amd64/bin/java to provide /usr/bin/java (java) in auto mode\n",
            "update-alternatives: using /usr/lib/jvm/java-17-openjdk-amd64/bin/jpackage to provide /usr/bin/jpackage (jpackage) in auto mode\n",
            "update-alternatives: using /usr/lib/jvm/java-17-openjdk-amd64/bin/keytool to provide /usr/bin/keytool (keytool) in auto mode\n",
            "update-alternatives: using /usr/lib/jvm/java-17-openjdk-amd64/bin/rmiregistry to provide /usr/bin/rmiregistry (rmiregistry) in auto mode\n",
            "update-alternatives: using /usr/lib/jvm/java-17-openjdk-amd64/lib/jexec to provide /usr/bin/jexec (jexec) in auto mode\n",
            "Setting up openjdk-17-jdk-headless:amd64 (17.0.15+6~us1-0ubuntu1~22.04) ...\n",
            "update-alternatives: using /usr/lib/jvm/java-17-openjdk-amd64/bin/jar to provide /usr/bin/jar (jar) in auto mode\n",
            "update-alternatives: using /usr/lib/jvm/java-17-openjdk-amd64/bin/jarsigner to provide /usr/bin/jarsigner (jarsigner) in auto mode\n",
            "update-alternatives: using /usr/lib/jvm/java-17-openjdk-amd64/bin/javac to provide /usr/bin/javac (javac) in auto mode\n",
            "update-alternatives: using /usr/lib/jvm/java-17-openjdk-amd64/bin/javadoc to provide /usr/bin/javadoc (javadoc) in auto mode\n",
            "update-alternatives: using /usr/lib/jvm/java-17-openjdk-amd64/bin/javap to provide /usr/bin/javap (javap) in auto mode\n",
            "update-alternatives: using /usr/lib/jvm/java-17-openjdk-amd64/bin/jcmd to provide /usr/bin/jcmd (jcmd) in auto mode\n",
            "update-alternatives: using /usr/lib/jvm/java-17-openjdk-amd64/bin/jdb to provide /usr/bin/jdb (jdb) in auto mode\n",
            "update-alternatives: using /usr/lib/jvm/java-17-openjdk-amd64/bin/jdeprscan to provide /usr/bin/jdeprscan (jdeprscan) in auto mode\n",
            "update-alternatives: using /usr/lib/jvm/java-17-openjdk-amd64/bin/jdeps to provide /usr/bin/jdeps (jdeps) in auto mode\n",
            "update-alternatives: using /usr/lib/jvm/java-17-openjdk-amd64/bin/jfr to provide /usr/bin/jfr (jfr) in auto mode\n",
            "update-alternatives: using /usr/lib/jvm/java-17-openjdk-amd64/bin/jimage to provide /usr/bin/jimage (jimage) in auto mode\n",
            "update-alternatives: using /usr/lib/jvm/java-17-openjdk-amd64/bin/jinfo to provide /usr/bin/jinfo (jinfo) in auto mode\n",
            "update-alternatives: using /usr/lib/jvm/java-17-openjdk-amd64/bin/jlink to provide /usr/bin/jlink (jlink) in auto mode\n",
            "update-alternatives: using /usr/lib/jvm/java-17-openjdk-amd64/bin/jmap to provide /usr/bin/jmap (jmap) in auto mode\n",
            "update-alternatives: using /usr/lib/jvm/java-17-openjdk-amd64/bin/jmod to provide /usr/bin/jmod (jmod) in auto mode\n",
            "update-alternatives: using /usr/lib/jvm/java-17-openjdk-amd64/bin/jps to provide /usr/bin/jps (jps) in auto mode\n",
            "update-alternatives: using /usr/lib/jvm/java-17-openjdk-amd64/bin/jrunscript to provide /usr/bin/jrunscript (jrunscript) in auto mode\n",
            "update-alternatives: using /usr/lib/jvm/java-17-openjdk-amd64/bin/jshell to provide /usr/bin/jshell (jshell) in auto mode\n",
            "update-alternatives: using /usr/lib/jvm/java-17-openjdk-amd64/bin/jstack to provide /usr/bin/jstack (jstack) in auto mode\n",
            "update-alternatives: using /usr/lib/jvm/java-17-openjdk-amd64/bin/jstat to provide /usr/bin/jstat (jstat) in auto mode\n",
            "update-alternatives: using /usr/lib/jvm/java-17-openjdk-amd64/bin/jstatd to provide /usr/bin/jstatd (jstatd) in auto mode\n",
            "update-alternatives: using /usr/lib/jvm/java-17-openjdk-amd64/bin/serialver to provide /usr/bin/serialver (serialver) in auto mode\n",
            "update-alternatives: using /usr/lib/jvm/java-17-openjdk-amd64/bin/jhsdb to provide /usr/bin/jhsdb (jhsdb) in auto mode\n"
          ]
        }
      ]
    },
    {
      "cell_type": "code",
      "source": [
        "import os\n",
        "os.environ[\"JAVA_HOME\"] = \"/usr/lib/jvm/java-17-openjdk-amd64\"\n",
        "os.environ[\"PATH\"] += \":/usr/lib/jvm/java-17-openjdk-amd64/bin\"\n"
      ],
      "metadata": {
        "id": "FH9qp1X58xNn"
      },
      "execution_count": null,
      "outputs": []
    },
    {
      "cell_type": "code",
      "execution_count": null,
      "metadata": {
        "colab": {
          "base_uri": "https://localhost:8080/"
        },
        "id": "9rjgCZvNueCC",
        "outputId": "8f5fc88e-deff-4018-d3c1-26f6493d4816"
      },
      "outputs": [
        {
          "output_type": "stream",
          "name": "stdout",
          "text": [
            "W: Skipping acquire of configured file 'main/source/Sources' as repository 'https://r2u.stat.illinois.edu/ubuntu jammy InRelease' does not seem to provide it (sources.list entry misspelt?)\n",
            "Selecting previously unselected package default-jre-headless.\n",
            "(Reading database ... 126102 files and directories currently installed.)\n",
            "Preparing to unpack .../00-default-jre-headless_2%3a1.11-72build2_amd64.deb ...\n",
            "Unpacking default-jre-headless (2:1.11-72build2) ...\n",
            "Selecting previously unselected package libxtst6:amd64.\n",
            "Preparing to unpack .../01-libxtst6_2%3a1.2.3-1build4_amd64.deb ...\n",
            "Unpacking libxtst6:amd64 (2:1.2.3-1build4) ...\n",
            "Selecting previously unselected package openjdk-11-jre:amd64.\n",
            "Preparing to unpack .../02-openjdk-11-jre_11.0.27+6~us1-0ubuntu1~22.04_amd64.deb ...\n",
            "Unpacking openjdk-11-jre:amd64 (11.0.27+6~us1-0ubuntu1~22.04) ...\n",
            "Selecting previously unselected package default-jre.\n",
            "Preparing to unpack .../03-default-jre_2%3a1.11-72build2_amd64.deb ...\n",
            "Unpacking default-jre (2:1.11-72build2) ...\n",
            "Selecting previously unselected package default-jdk-headless.\n",
            "Preparing to unpack .../04-default-jdk-headless_2%3a1.11-72build2_amd64.deb ...\n",
            "Unpacking default-jdk-headless (2:1.11-72build2) ...\n",
            "Selecting previously unselected package openjdk-11-jdk:amd64.\n",
            "Preparing to unpack .../05-openjdk-11-jdk_11.0.27+6~us1-0ubuntu1~22.04_amd64.deb ...\n",
            "Unpacking openjdk-11-jdk:amd64 (11.0.27+6~us1-0ubuntu1~22.04) ...\n",
            "Selecting previously unselected package default-jdk.\n",
            "Preparing to unpack .../06-default-jdk_2%3a1.11-72build2_amd64.deb ...\n",
            "Unpacking default-jdk (2:1.11-72build2) ...\n",
            "Selecting previously unselected package fonts-dejavu-core.\n",
            "Preparing to unpack .../07-fonts-dejavu-core_2.37-2build1_all.deb ...\n",
            "Unpacking fonts-dejavu-core (2.37-2build1) ...\n",
            "Selecting previously unselected package fonts-dejavu-extra.\n",
            "Preparing to unpack .../08-fonts-dejavu-extra_2.37-2build1_all.deb ...\n",
            "Unpacking fonts-dejavu-extra (2.37-2build1) ...\n",
            "Selecting previously unselected package libxxf86dga1:amd64.\n",
            "Preparing to unpack .../09-libxxf86dga1_2%3a1.1.5-0ubuntu3_amd64.deb ...\n",
            "Unpacking libxxf86dga1:amd64 (2:1.1.5-0ubuntu3) ...\n",
            "Selecting previously unselected package x11-utils.\n",
            "Preparing to unpack .../10-x11-utils_7.7+5build2_amd64.deb ...\n",
            "Unpacking x11-utils (7.7+5build2) ...\n",
            "Selecting previously unselected package libatk-wrapper-java.\n",
            "Preparing to unpack .../11-libatk-wrapper-java_0.38.0-5build1_all.deb ...\n",
            "Unpacking libatk-wrapper-java (0.38.0-5build1) ...\n",
            "Selecting previously unselected package libatk-wrapper-java-jni:amd64.\n",
            "Preparing to unpack .../12-libatk-wrapper-java-jni_0.38.0-5build1_amd64.deb ...\n",
            "Unpacking libatk-wrapper-java-jni:amd64 (0.38.0-5build1) ...\n",
            "Selecting previously unselected package libxt-dev:amd64.\n",
            "Preparing to unpack .../13-libxt-dev_1%3a1.2.1-1_amd64.deb ...\n",
            "Unpacking libxt-dev:amd64 (1:1.2.1-1) ...\n",
            "Setting up default-jre-headless (2:1.11-72build2) ...\n",
            "Setting up libxtst6:amd64 (2:1.2.3-1build4) ...\n",
            "Setting up libxxf86dga1:amd64 (2:1.1.5-0ubuntu3) ...\n",
            "Setting up openjdk-11-jre:amd64 (11.0.27+6~us1-0ubuntu1~22.04) ...\n",
            "Setting up default-jre (2:1.11-72build2) ...\n",
            "Setting up default-jdk-headless (2:1.11-72build2) ...\n",
            "Setting up libxt-dev:amd64 (1:1.2.1-1) ...\n",
            "Setting up fonts-dejavu-core (2.37-2build1) ...\n",
            "Setting up fonts-dejavu-extra (2.37-2build1) ...\n",
            "Setting up x11-utils (7.7+5build2) ...\n",
            "Setting up openjdk-11-jdk:amd64 (11.0.27+6~us1-0ubuntu1~22.04) ...\n",
            "update-alternatives: using /usr/lib/jvm/java-11-openjdk-amd64/bin/jconsole to provide /usr/bin/jconsole (jconsole) in auto mode\n",
            "Setting up libatk-wrapper-java (0.38.0-5build1) ...\n",
            "Setting up default-jdk (2:1.11-72build2) ...\n",
            "Setting up libatk-wrapper-java-jni:amd64 (0.38.0-5build1) ...\n",
            "Processing triggers for fontconfig (2.13.1-4.2ubuntu5) ...\n",
            "Processing triggers for hicolor-icon-theme (0.17-2) ...\n",
            "Processing triggers for libc-bin (2.35-0ubuntu3.8) ...\n",
            "/sbin/ldconfig.real: /usr/local/lib/libumf.so.0 is not a symbolic link\n",
            "\n",
            "/sbin/ldconfig.real: /usr/local/lib/libtcm_debug.so.1 is not a symbolic link\n",
            "\n",
            "/sbin/ldconfig.real: /usr/local/lib/libtbbbind.so.3 is not a symbolic link\n",
            "\n",
            "/sbin/ldconfig.real: /usr/local/lib/libhwloc.so.15 is not a symbolic link\n",
            "\n",
            "/sbin/ldconfig.real: /usr/local/lib/libtbbbind_2_5.so.3 is not a symbolic link\n",
            "\n",
            "/sbin/ldconfig.real: /usr/local/lib/libtbb.so.12 is not a symbolic link\n",
            "\n",
            "/sbin/ldconfig.real: /usr/local/lib/libur_adapter_level_zero.so.0 is not a symbolic link\n",
            "\n",
            "/sbin/ldconfig.real: /usr/local/lib/libtbbmalloc.so.2 is not a symbolic link\n",
            "\n",
            "/sbin/ldconfig.real: /usr/local/lib/libtbbbind_2_0.so.3 is not a symbolic link\n",
            "\n",
            "/sbin/ldconfig.real: /usr/local/lib/libtcm.so.1 is not a symbolic link\n",
            "\n",
            "/sbin/ldconfig.real: /usr/local/lib/libur_adapter_opencl.so.0 is not a symbolic link\n",
            "\n",
            "/sbin/ldconfig.real: /usr/local/lib/libtbbmalloc_proxy.so.2 is not a symbolic link\n",
            "\n",
            "/sbin/ldconfig.real: /usr/local/lib/libur_loader.so.0 is not a symbolic link\n",
            "\n",
            "Processing triggers for man-db (2.10.2-1) ...\n",
            "Processing triggers for mailcap (3.70+nmu1ubuntu1) ...\n",
            "openjdk version \"11.0.27\" 2025-04-15\n",
            "OpenJDK Runtime Environment (build 11.0.27+6-post-Ubuntu-0ubuntu122.04)\n",
            "OpenJDK 64-Bit Server VM (build 11.0.27+6-post-Ubuntu-0ubuntu122.04, mixed mode, sharing)\n"
          ]
        }
      ],
      "source": [
        "# Install Java\n",
        "!apt-get update -qq\n",
        "!apt-get install -qq default-jdk\n",
        "\n",
        "# Check version\n",
        "!java -version\n"
      ]
    },
    {
      "cell_type": "code",
      "source": [
        "# update package lists\n",
        "!apt-get update -qq\n",
        "\n",
        "# install headless JDK 11\n",
        "!apt-get install -qq openjdk-11-jdk-headless\n",
        "\n",
        "# verify\n",
        "!javac -version\n",
        "!java -version\n"
      ],
      "metadata": {
        "colab": {
          "base_uri": "https://localhost:8080/"
        },
        "id": "HGQ93wDM0YLN",
        "outputId": "89d12302-ba3e-46b8-d7ab-421003aa6fc6"
      },
      "execution_count": null,
      "outputs": [
        {
          "output_type": "stream",
          "name": "stdout",
          "text": [
            "W: Skipping acquire of configured file 'main/source/Sources' as repository 'https://r2u.stat.illinois.edu/ubuntu jammy InRelease' does not seem to provide it (sources.list entry misspelt?)\n",
            "javac 11.0.27\n",
            "openjdk version \"11.0.27\" 2025-04-15\n",
            "OpenJDK Runtime Environment (build 11.0.27+6-post-Ubuntu-0ubuntu122.04)\n",
            "OpenJDK 64-Bit Server VM (build 11.0.27+6-post-Ubuntu-0ubuntu122.04, mixed mode, sharing)\n"
          ]
        }
      ]
    },
    {
      "cell_type": "code",
      "source": [
        "%%bash\n",
        "# write Java source\n",
        "cat > Main.java << 'EOF'\n",
        "public class Main {\n",
        "    public static void main(String[] args) {\n",
        "        System.out.println(\"Hello from Java!\");\n",
        "    }\n",
        "}\n",
        "EOF\n",
        "\n",
        "# compile\n",
        "javac Main.java\n",
        "\n",
        "# run\n",
        "java Main\n"
      ],
      "metadata": {
        "colab": {
          "base_uri": "https://localhost:8080/"
        },
        "id": "Qur8cDex0o_G",
        "outputId": "2204a9df-988a-460e-e64b-3e732c811beb"
      },
      "execution_count": null,
      "outputs": [
        {
          "output_type": "stream",
          "name": "stdout",
          "text": [
            "Hello from Java!\n"
          ]
        }
      ]
    },
    {
      "cell_type": "code",
      "source": [
        "%%bash\n",
        "mkdir -p src/com/example\n",
        "cat > src/com/example/App.java << 'EOF'\n",
        "package com.example;\n",
        "public class App {\n",
        "  public static void run() {\n",
        "    System.out.println(\"Running multi‑class App!\");\n",
        "  }\n",
        "}\n",
        "EOF\n"
      ],
      "metadata": {
        "id": "VLpmsV3h1CcV"
      },
      "execution_count": null,
      "outputs": []
    },
    {
      "cell_type": "code",
      "source": [
        "%%bash\n",
        "# wrapper Main.java\n",
        "cat > Main.java << 'EOF'\n",
        "import com.example.App;\n",
        "public class Main {\n",
        "  public static void main(String[] args) {\n",
        "    App.run();\n",
        "  }\n",
        "}\n",
        "EOF\n",
        "\n",
        "# compile\n",
        "javac -d out src/com/example/App.java Main.java\n",
        "\n",
        "# run\n",
        "java -cp out Main\n"
      ],
      "metadata": {
        "colab": {
          "base_uri": "https://localhost:8080/"
        },
        "id": "gv6tATwG1H2b",
        "outputId": "6ced4230-e489-4a64-a7ab-c0ff27d07e2d"
      },
      "execution_count": null,
      "outputs": [
        {
          "output_type": "stream",
          "name": "stdout",
          "text": [
            "Running multi‑class App!\n"
          ]
        }
      ]
    },
    {
      "cell_type": "code",
      "source": [
        "%%bash\n",
        "compile_and_run() {\n",
        "  javac -d out \"$1\".java && java -cp out \"$1\"\n",
        "}\n",
        "export -f compile_and_run\n"
      ],
      "metadata": {
        "id": "cAdOkTSO1Lvv"
      },
      "execution_count": null,
      "outputs": []
    },
    {
      "cell_type": "code",
      "source": [
        "%%bash\n",
        "javac Foo.java -d out\n",
        "java -cp out Foo\n"
      ],
      "metadata": {
        "colab": {
          "base_uri": "https://localhost:8080/"
        },
        "id": "vOiT94kg1nXo",
        "outputId": "a878b8d8-c030-414f-c9c7-d531abdfde58"
      },
      "execution_count": null,
      "outputs": [
        {
          "output_type": "stream",
          "name": "stdout",
          "text": [
            "Foo!\n"
          ]
        }
      ]
    },
    {
      "cell_type": "markdown",
      "source": [
        "**Alternative even number between the given numbers **\n"
      ],
      "metadata": {
        "id": "haqAgj823kX0"
      }
    },
    {
      "cell_type": "code",
      "source": [
        "%%bash\n",
        "# write & compile (same as before)\n",
        "cat > Main.java << 'EOF'\n",
        "import java.util.Scanner;\n",
        "class Main {\n",
        "    public static void main(String[] args) {\n",
        "        Scanner sc = new Scanner(System.in);\n",
        "        int a = sc.nextInt();\n",
        "        int b = sc.nextInt();\n",
        "        if (a % 2 == 0) a += 1;\n",
        "        for (int i = a + 1; i < b; i += 4) {\n",
        "            System.out.print(i + \" \");\n",
        "        }\n",
        "        sc.close();\n",
        "    }\n",
        "}\n",
        "EOF\n",
        "\n",
        "javac -d out Main.java\n",
        "\n",
        "# pipe in example input \"3 20\"\n",
        "echo \"10 30\" | java -cp out Main\n",
        "echo \"5 25\"  | java -cp out Main\n"
      ],
      "metadata": {
        "colab": {
          "base_uri": "https://localhost:8080/"
        },
        "id": "dqqjav1s22VR",
        "outputId": "6f6454bc-5487-4a34-c0b1-367d4240faa2"
      },
      "execution_count": null,
      "outputs": [
        {
          "output_type": "stream",
          "name": "stdout",
          "text": [
            "12 16 20 24 28 6 10 14 18 22 "
          ]
        }
      ]
    },
    {
      "cell_type": "markdown",
      "source": [
        "# first N no of prime numbers?\n",
        "input:first line of input conisists of One integer value(N)\n",
        "output:print first N no of prime numbers."
      ],
      "metadata": {
        "id": "GQIMSh2k3u_F"
      }
    },
    {
      "cell_type": "code",
      "source": [
        "%%bash\n",
        "cat > Main.java << 'EOF'\n",
        "import java.util.Scanner;\n",
        "class A {\n",
        "    public static void main(String[] args) {\n",
        "        Scanner sc = new Scanner(System.in);\n",
        "        int n = sc.nextInt();\n",
        "\n",
        "        int p = 2, pc = 0;\n",
        "\n",
        "        while (pc < n) {\n",
        "            int fc = 0;\n",
        "            for (int i = 1; i <= p; i++) {\n",
        "                if (p % i == 0) {\n",
        "                    fc++;\n",
        "                }\n",
        "            }\n",
        "            if (fc == 2) {\n",
        "                pc++;\n",
        "                if (pc != 1) {\n",
        "                    System.out.print(\", \");\n",
        "                }\n",
        "                System.out.print(p);\n",
        "            }\n",
        "            p++;  // increment p here!\n",
        "        }\n",
        "        sc.close();\n",
        "    }\n",
        "}\n",
        "EOF\n",
        "\n",
        "javac -d out Main.java\n",
        "\n",
        "# Run with input \"10\"\n",
        "echo \"5\" | java -cp out A\n"
      ],
      "metadata": {
        "colab": {
          "base_uri": "https://localhost:8080/"
        },
        "id": "EuzI7F8j3dlt",
        "outputId": "0f5abd0f-a9d7-45e8-9753-514320faec9f"
      },
      "execution_count": null,
      "outputs": [
        {
          "output_type": "stream",
          "name": "stdout",
          "text": [
            "2, 3, 5, 7, 11"
          ]
        }
      ]
    },
    {
      "cell_type": "markdown",
      "source": [
        "A **pyramid** with some constraints\n",
        "if input is -6 the output has to be invalid input\n",
        "if input is 0 the ouput has to be zero\n",
        "if input is positive output has to be the stars"
      ],
      "metadata": {
        "id": "9-VtgfPtKkHL"
      }
    },
    {
      "cell_type": "code",
      "source": [
        "%%bash\n",
        "# write & compile (same as before)\n",
        "cat > Main.java << 'EOF'\n",
        "import java.util.Scanner;\n",
        "class Main{\n",
        "   public static void main(String[]args){\n",
        "      Scanner sc=new Scanner(System.in);\n",
        "      int n=sc.nextInt();\n",
        "      if(n==-6){\n",
        "        System.out.print(\"Invalid Input\");\n",
        "      }\n",
        "      else if(n==0){\n",
        "        System.out.print(\"Zero\");\n",
        "      }\n",
        "      for(int i=0;i<n;i++){\n",
        "        for(int j=0;j<n-i;j++){\n",
        "          System.out.print(\" \");\n",
        "        }\n",
        "        for(int k=0;k<i*1;k++){\n",
        "          System.out.print(\"* \");\n",
        "        }\n",
        "        System.out.println();\n",
        "      }\n",
        "\n",
        "   }\n",
        "}\n",
        "EOF\n",
        "\n",
        "javac -d out Main.java\n",
        "\n",
        "# Run with input \"10\"\n",
        "echo \"5\" | java -cp out Main"
      ],
      "metadata": {
        "id": "g3CGbZUs8mFX",
        "colab": {
          "base_uri": "https://localhost:8080/"
        },
        "outputId": "e44b73ab-9fee-49d8-f29e-3d3c835a00d8"
      },
      "execution_count": 13,
      "outputs": [
        {
          "output_type": "stream",
          "name": "stdout",
          "text": [
            "     \n",
            "    * \n",
            "   * * \n",
            "  * * * \n",
            " * * * * \n"
          ]
        }
      ]
    },
    {
      "cell_type": "markdown",
      "source": [
        "## NON FIBONACCI NUMERS UP TO NUMBERS"
      ],
      "metadata": {
        "id": "JifKjVmuLWM-"
      }
    },
    {
      "cell_type": "code",
      "source": [
        "%%bash\n",
        "# write & compile (same as before)\n",
        "cat > Main.java << 'EOF'\n",
        "import java.util.Scanner;\n",
        "class Main{\n",
        "    public static void main(String[]args){\n",
        "        Scanner sc=new Scanner(System.in);\n",
        "        int n=sc.nextInt();\n",
        "        int a=0,b=1,c=0;\n",
        "        while(a<=n){\n",
        "            for(int i=a+1;i<b && i<=n;i++){\n",
        "                System.out.print(i+\" \");\n",
        "            }\n",
        "            c=a+b;\n",
        "            a=b;\n",
        "            b=c;\n",
        "        }\n",
        "}\n",
        "}\n",
        "EOF\n",
        "\n",
        "javac -d out Main.java\n",
        "\n",
        "# Run with input \"10\"\n",
        "echo \"22\" | java -cp out Main"
      ],
      "metadata": {
        "colab": {
          "base_uri": "https://localhost:8080/"
        },
        "id": "FlLK_n0oLhed",
        "outputId": "c5f4a5a0-d604-4497-9e5d-da39c54845ee"
      },
      "execution_count": 9,
      "outputs": [
        {
          "output_type": "stream",
          "name": "stdout",
          "text": [
            "4 6 7 9 10 11 12 14 15 16 17 18 19 20 22 "
          ]
        }
      ]
    },
    {
      "cell_type": "markdown",
      "source": [
        "# program to silly sort for given array\n",
        "silly sort: sort the array left half and right half separatly.\n",
        "constraints: if the given array size is odd then sort left half and right half separatly and don't distrub the middle element"
      ],
      "metadata": {
        "id": "JqPTFjcJPOV6"
      }
    },
    {
      "cell_type": "markdown",
      "source": [
        "\n",
        "       /* 1) Read inputs*/\n",
        "        /* 2) Sort first half (0 .. n/2-1)*/\n",
        "         /* 3) Sort second half (mid .. n-1)\n",
        "        If n is odd, mid == floor(n/2), so second half is mid..n-1*/\n",
        "         // 4) Print result"
      ],
      "metadata": {
        "id": "jO3p-QGCUPt1"
      }
    },
    {
      "cell_type": "code",
      "source": [
        "%%bash\n",
        "# write & compile (same as before)\n",
        "cat > Main.java << 'EOF'\n",
        "\n",
        "\n",
        "import java.util.Scanner;\n",
        "\n",
        "class Main {\n",
        "    public static void main(String[] args) {\n",
        "        Scanner sc = new Scanner(System.in);\n",
        "        int n = sc.nextInt();\n",
        "        int[] a = new int[n];\n",
        "\n",
        "        for (int i = 0; i < n; i++) {\n",
        "            a[i] = sc.nextInt();\n",
        "        }\n",
        "\n",
        "\n",
        "        int mid = n / 2;\n",
        "        for (int i = 0; i < mid; i++) {\n",
        "            for (int j = i + 1; j < mid; j++) {\n",
        "                if (a[i] > a[j]) {\n",
        "                    int t = a[i];\n",
        "                    a[i] = a[j];\n",
        "                    a[j] = t;\n",
        "                }\n",
        "            }\n",
        "        }\n",
        "\n",
        "\n",
        "        for (int i = mid; i < n; i++) {\n",
        "            for (int j = i + 1; j < n; j++) {\n",
        "                if (a[i] > a[j]) {\n",
        "                    int t = a[i];\n",
        "                    a[i] = a[j];\n",
        "                    a[j] = t;\n",
        "                }\n",
        "            }\n",
        "        }\n",
        "\n",
        "\n",
        "        for (int i = 0; i < n; i++) {\n",
        "            System.out.print(a[i] + \" \");\n",
        "        }\n",
        "    }\n",
        "}\n",
        "\n",
        "\n",
        "\n",
        "\n",
        "EOF\n",
        "\n",
        "javac -d out Main.java\n",
        "echo \"10 10 9 8 7 6 5 4 3 2 1\" | java -cp out Main\n",
        "\n",
        "\n"
      ],
      "metadata": {
        "colab": {
          "base_uri": "https://localhost:8080/"
        },
        "id": "LM9-iGMoPiGb",
        "outputId": "2b9b6931-7947-4329-e3f9-54b764bd7cbc"
      },
      "execution_count": 21,
      "outputs": [
        {
          "output_type": "stream",
          "name": "stdout",
          "text": [
            "6 7 8 9 10 1 2 3 4 5 "
          ]
        }
      ]
    },
    {
      "cell_type": "markdown",
      "source": [
        "## decoded string\n",
        "given an encoded string.return its decoded string\n",
        "\n",
        "the encoding rule :k[encoded_string].where the encoded_string inside the square brackets is begin repeated exacty k times.note that k is guaranteed to be a positive integer.\n",
        "\n",
        "you may assume that the input string is always valid there are no extra white spaces square brackets are well-formed etc.\n",
        "furthermore youmay assume that the orginal data does not contan any digits and that digits are only for those repeat numbers k for example there will not be input like 3a or 2[4]."
      ],
      "metadata": {
        "id": "PvSlmYilWiKd"
      }
    },
    {
      "cell_type": "code",
      "source": [
        "%%bash\n",
        "# write & compile (same as before)\n",
        "cat > Main.java << 'EOF'\n",
        "import java.util.*;\n",
        "\n",
        "class Main {\n",
        "    public static void main(String[] args) {\n",
        "        Scanner sc = new Scanner(System.in);\n",
        "        String s = sc.nextLine();\n",
        "        String res = decodedString(s);\n",
        "        System.out.println(res);\n",
        "    }\n",
        "\n",
        "    static String decodedString(String s) {\n",
        "        // While there's still a closing bracket, peel off one layer\n",
        "        while (s.contains(\"]\")) {\n",
        "            int end = s.indexOf(\"]\");\n",
        "            int start = s.lastIndexOf(\"[\", end);\n",
        "\n",
        "            // The substring to repeat\n",
        "            String chunk = s.substring(start + 1, end);\n",
        "\n",
        "            // Scan backwards from 'start' to collect the full repeat count\n",
        "            int kStart = start - 1;\n",
        "            while (kStart >= 0 && Character.isDigit(s.charAt(kStart))) {\n",
        "                kStart--;\n",
        "            }\n",
        "            // Now digits are in s[kStart+1 .. start-1]\n",
        "            String numStr = s.substring(kStart + 1, start);\n",
        "            int repeat = Integer.parseInt(numStr);\n",
        "\n",
        "            // Build the expanded string\n",
        "            StringBuilder expanded = new StringBuilder();\n",
        "            for (int i = 0; i < repeat; i++) {\n",
        "                expanded.append(chunk);\n",
        "            }\n",
        "\n",
        "            // Reconstruct s = pre + expanded + post\n",
        "            String pre  = s.substring(0, kStart + 1);\n",
        "            String post = s.substring(end + 1);\n",
        "            s = pre + expanded + post;\n",
        "        }\n",
        "        return s;\n",
        "    }\n",
        "}\n",
        "\n",
        "EOF\n",
        "\n",
        "javac -d out Main.java\n",
        "echo \"3[a2[ac]]\" | java -cp out Main\n"
      ],
      "metadata": {
        "colab": {
          "base_uri": "https://localhost:8080/"
        },
        "id": "wslTXe6DYHlV",
        "outputId": "3078e85a-81e7-4d88-af7b-dc678dd5dc92"
      },
      "execution_count": 23,
      "outputs": [
        {
          "output_type": "stream",
          "name": "stdout",
          "text": [
            "aacacaacacaacac\n"
          ]
        }
      ]
    }
  ],
  "metadata": {
    "colab": {
      "provenance": [],
      "authorship_tag": "ABX9TyMhiEMDuPZEGnz7ksZzLKP7",
      "include_colab_link": true
    },
    "kernelspec": {
      "display_name": "Python 3",
      "name": "python3"
    },
    "language_info": {
      "name": "python"
    }
  },
  "nbformat": 4,
  "nbformat_minor": 0
}